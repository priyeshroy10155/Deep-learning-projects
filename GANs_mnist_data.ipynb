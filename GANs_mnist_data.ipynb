{
  "nbformat": 4,
  "nbformat_minor": 0,
  "metadata": {
    "colab": {
      "name": "GANs_mnist_data.ipynb",
      "provenance": [],
      "collapsed_sections": [],
      "authorship_tag": "ABX9TyPJPPnk8BBEstY2IeWuNw+j",
      "include_colab_link": true
    },
    "kernelspec": {
      "name": "python3",
      "display_name": "Python 3"
    },
    "language_info": {
      "name": "python"
    }
  },
  "cells": [
    {
      "cell_type": "markdown",
      "metadata": {
        "id": "view-in-github",
        "colab_type": "text"
      },
      "source": [
        "<a href=\"https://colab.research.google.com/github/priyeshroy10155/Deep-learning-projects/blob/main/GANs_mnist_data.ipynb\" target=\"_parent\"><img src=\"https://colab.research.google.com/assets/colab-badge.svg\" alt=\"Open In Colab\"/></a>"
      ]
    },
    {
      "cell_type": "code",
      "execution_count": 1,
      "metadata": {
        "id": "7TWS_ZMQlDty"
      },
      "outputs": [],
      "source": [
        "import numpy as np\n",
        "import pandas as pd\n",
        "import matplotlib.pyplot as plt"
      ]
    },
    {
      "cell_type": "code",
      "source": [
        "from tensorflow.keras.datasets import mnist"
      ],
      "metadata": {
        "id": "1dnx4bWclnIi"
      },
      "execution_count": 2,
      "outputs": []
    },
    {
      "cell_type": "code",
      "source": [
        "(x_train,y_train),(x_test,y_test)=mnist.load_data()"
      ],
      "metadata": {
        "colab": {
          "base_uri": "https://localhost:8080/"
        },
        "id": "de7r2AM9l5BM",
        "outputId": "f2f1e0d5-b2dc-4f89-8b69-84e333e1a567"
      },
      "execution_count": 3,
      "outputs": [
        {
          "output_type": "stream",
          "name": "stdout",
          "text": [
            "Downloading data from https://storage.googleapis.com/tensorflow/tf-keras-datasets/mnist.npz\n",
            "11490434/11490434 [==============================] - 0s 0us/step\n"
          ]
        }
      ]
    },
    {
      "cell_type": "code",
      "source": [
        "plt.imshow(x_train[0])"
      ],
      "metadata": {
        "colab": {
          "base_uri": "https://localhost:8080/",
          "height": 282
        },
        "id": "BfuC_ue4mOGV",
        "outputId": "c3475e9f-1757-4585-a366-409129e85c77"
      },
      "execution_count": 4,
      "outputs": [
        {
          "output_type": "execute_result",
          "data": {
            "text/plain": [
              "<matplotlib.image.AxesImage at 0x7f498f99c710>"
            ]
          },
          "metadata": {},
          "execution_count": 4
        },
        {
          "output_type": "display_data",
          "data": {
            "text/plain": [
              "<Figure size 432x288 with 1 Axes>"
            ],
            "image/png": "[encoded data removed]"
          },
          "metadata": {
            "needs_background": "light"
          }
        }
      ]
    },
    {
      "cell_type": "code",
      "source": [
        "y_train==0"
      ],
      "metadata": {
        "colab": {
          "base_uri": "https://localhost:8080/"
        },
        "id": "dKTKSgULmXAV",
        "outputId": "ff6f208f-169d-487e-f0bf-9ad6ca82ccec"
      },
      "execution_count": 5,
      "outputs": [
        {
          "output_type": "execute_result",
          "data": {
            "text/plain": [
              "array([False,  True, False, ..., False, False, False])"
            ]
          },
          "metadata": {},
          "execution_count": 5
        }
      ]
    },
    {
      "cell_type": "code",
      "source": [
        "only_zeros=x_train[y_train==0]"
      ],
      "metadata": {
        "id": "2Fa-3tRrmfwF"
      },
      "execution_count": 6,
      "outputs": []
    },
    {
      "cell_type": "code",
      "source": [
        "only_zeros.shape"
      ],
      "metadata": {
        "colab": {
          "base_uri": "https://localhost:8080/"
        },
        "id": "RS76WyT7nCtF",
        "outputId": "66b4c49e-4690-4324-b872-58f722489d2b"
      },
      "execution_count": 7,
      "outputs": [
        {
          "output_type": "execute_result",
          "data": {
            "text/plain": [
              "(5923, 28, 28)"
            ]
          },
          "metadata": {},
          "execution_count": 7
        }
      ]
    },
    {
      "cell_type": "code",
      "source": [
        "x_train.shape"
      ],
      "metadata": {
        "colab": {
          "base_uri": "https://localhost:8080/"
        },
        "id": "tmTnddWunRol",
        "outputId": "9723d7d7-fdf8-44bf-deb8-24237ba46181"
      },
      "execution_count": 8,
      "outputs": [
        {
          "output_type": "execute_result",
          "data": {
            "text/plain": [
              "(60000, 28, 28)"
            ]
          },
          "metadata": {},
          "execution_count": 8
        }
      ]
    },
    {
      "cell_type": "code",
      "source": [
        "plt.imshow(only_zeros[14])"
      ],
      "metadata": {
        "colab": {
          "base_uri": "https://localhost:8080/",
          "height": 282
        },
        "id": "4DHF3MninX5V",
        "outputId": "e09f0783-9d13-4138-8cdd-a7f2104000d0"
      },
      "execution_count": 9,
      "outputs": [
        {
          "output_type": "execute_result",
          "data": {
            "text/plain": [
              "<matplotlib.image.AxesImage at 0x7f498f48fa10>"
            ]
          },
          "metadata": {},
          "execution_count": 9
        },
        {
          "output_type": "display_data",
          "data": {
            "text/plain": [
              "<Figure size 432x288 with 1 Axes>"
            ],
            "image/png": "[encoded data removed]"
          },
          "metadata": {
            "needs_background": "light"
          }
        }
      ]
    },
    {
      "cell_type": "code",
      "source": [
        "import tensorflow as tf\n",
        "from tensorflow.keras.layers import Dense,Reshape,Flatten\n",
        "from tensorflow.keras.models import Sequential"
      ],
      "metadata": {
        "id": "tsFcAH9coCos"
      },
      "execution_count": 10,
      "outputs": []
    },
    {
      "cell_type": "code",
      "source": [
        "discriminator=Sequential()\n",
        "discriminator.add(Flatten(input_shape=[28,28]))\n",
        "discriminator.add(Dense(150,activation='relu'))\n",
        "discriminator.add(Dense(100,activation='relu'))\n",
        "#Final output layer\n",
        "discriminator.add(Dense(1,activation='sigmoid'))\n",
        "discriminator.compile(loss='binary_crossentropy',optimizer='adam')"
      ],
      "metadata": {
        "id": "XMQVhOcYqHcO"
      },
      "execution_count": 11,
      "outputs": []
    },
    {
      "cell_type": "code",
      "source": [
        "codings_size=100\n",
        "#100--150-->784\n",
        "generator=Sequential()\n",
        "generator.add(Dense(100,activation='relu',input_shape=[codings_size]))\n",
        "generator.add(Dense(150,activation='relu'))\n",
        "generator.add(Dense(784,activation='relu'))\n",
        "generator.add(Reshape([28,28]))"
      ],
      "metadata": {
        "id": "e7TmmGWQr7o2"
      },
      "execution_count": 12,
      "outputs": []
    },
    {
      "cell_type": "code",
      "source": [
        "GAN=Sequential([generator,discriminator])"
      ],
      "metadata": {
        "id": "3qDo47epucBV"
      },
      "execution_count": 13,
      "outputs": []
    },
    {
      "cell_type": "code",
      "source": [
        "discriminator.trainable=False"
      ],
      "metadata": {
        "id": "s8c3tkahvHXc"
      },
      "execution_count": 14,
      "outputs": []
    },
    {
      "cell_type": "code",
      "source": [
        "GAN.compile(loss='binary_crossentropy',optimizer='adam')"
      ],
      "metadata": {
        "id": "NT6QIbqcvSYk"
      },
      "execution_count": 15,
      "outputs": []
    },
    {
      "cell_type": "code",
      "source": [
        "batch_size=32"
      ],
      "metadata": {
        "id": "MvEW-lxbvlS7"
      },
      "execution_count": 16,
      "outputs": []
    },
    {
      "cell_type": "code",
      "source": [
        "#my_data=x_train\n",
        "my_data=only_zeros"
      ],
      "metadata": {
        "id": "FiET0VW5xxSb"
      },
      "execution_count": 17,
      "outputs": []
    },
    {
      "cell_type": "code",
      "source": [
        "my_data.shape"
      ],
      "metadata": {
        "colab": {
          "base_uri": "https://localhost:8080/"
        },
        "id": "iHAQTHDEz7HI",
        "outputId": "5558a475-889e-46b0-879b-5428aaa9cd30"
      },
      "execution_count": 18,
      "outputs": [
        {
          "output_type": "execute_result",
          "data": {
            "text/plain": [
              "(5923, 28, 28)"
            ]
          },
          "metadata": {},
          "execution_count": 18
        }
      ]
    },
    {
      "cell_type": "code",
      "source": [
        "5923/32"
      ],
      "metadata": {
        "colab": {
          "base_uri": "https://localhost:8080/"
        },
        "id": "of9ggKeFz9rS",
        "outputId": "7a0fae7c-a9d5-472b-cd1c-c0bedefedfcb"
      },
      "execution_count": 19,
      "outputs": [
        {
          "output_type": "execute_result",
          "data": {
            "text/plain": [
              "185.09375"
            ]
          },
          "metadata": {},
          "execution_count": 19
        }
      ]
    },
    {
      "cell_type": "code",
      "source": [
        "dataset=tf.data.Dataset.from_tensor_slices(my_data).shuffle(buffer_size=1000)"
      ],
      "metadata": {
        "id": "KMmf67oSx8Jk"
      },
      "execution_count": 20,
      "outputs": []
    },
    {
      "cell_type": "code",
      "source": [
        "type(dataset)"
      ],
      "metadata": {
        "colab": {
          "base_uri": "https://localhost:8080/"
        },
        "id": "dLXOCD0ryfDb",
        "outputId": "8c3f4b1f-6688-46aa-dfb5-b322096285d1"
      },
      "execution_count": 21,
      "outputs": [
        {
          "output_type": "execute_result",
          "data": {
            "text/plain": [
              "tensorflow.python.data.ops.dataset_ops.ShuffleDataset"
            ]
          },
          "metadata": {},
          "execution_count": 21
        }
      ]
    },
    {
      "cell_type": "code",
      "source": [
        "dataset=dataset.batch(batch_size,drop_remainder=True).prefetch(1)"
      ],
      "metadata": {
        "id": "qN6EGNtryjsz"
      },
      "execution_count": 22,
      "outputs": []
    },
    {
      "cell_type": "code",
      "source": [
        "epochs=1"
      ],
      "metadata": {
        "id": "HWiCcW3Ky29E"
      },
      "execution_count": 23,
      "outputs": []
    },
    {
      "cell_type": "code",
      "source": [
        "GAN.layers[0].summary()"
      ],
      "metadata": {
        "colab": {
          "base_uri": "https://localhost:8080/"
        },
        "id": "op2Vx2J-0U1D",
        "outputId": "8ba0fc34-1f8f-4fa3-8757-6facb0bc6ad8"
      },
      "execution_count": 24,
      "outputs": [
        {
          "output_type": "stream",
          "name": "stdout",
          "text": [
            "Model: \"sequential_1\"\n",
            "_________________________________________________________________\n",
            " Layer (type)                Output Shape              Param #   \n",
            "=================================================================\n",
            " dense_3 (Dense)             (None, 100)               10100     \n",
            "                                                                 \n",
            " dense_4 (Dense)             (None, 150)               15150     \n",
            "                                                                 \n",
            " dense_5 (Dense)             (None, 784)               118384    \n",
            "                                                                 \n",
            " reshape (Reshape)           (None, 28, 28)            0         \n",
            "                                                                 \n",
            "=================================================================\n",
            "Total params: 143,634\n",
            "Trainable params: 143,634\n",
            "Non-trainable params: 0\n",
            "_________________________________________________________________\n"
          ]
        }
      ]
    },
    {
      "cell_type": "code",
      "source": [
        "GAN.layers[1].summary()"
      ],
      "metadata": {
        "colab": {
          "base_uri": "https://localhost:8080/"
        },
        "id": "KY26fQmY0Z-b",
        "outputId": "8ee8550a-5b6e-42f2-c163-a6ffeae2459d"
      },
      "execution_count": 25,
      "outputs": [
        {
          "output_type": "stream",
          "name": "stdout",
          "text": [
            "Model: \"sequential\"\n",
            "_________________________________________________________________\n",
            " Layer (type)                Output Shape              Param #   \n",
            "=================================================================\n",
            " flatten (Flatten)           (None, 784)               0         \n",
            "                                                                 \n",
            " dense (Dense)               (None, 150)               117750    \n",
            "                                                                 \n",
            " dense_1 (Dense)             (None, 100)               15100     \n",
            "                                                                 \n",
            " dense_2 (Dense)             (None, 1)                 101       \n",
            "                                                                 \n",
            "=================================================================\n",
            "Total params: 132,951\n",
            "Trainable params: 0\n",
            "Non-trainable params: 132,951\n",
            "_________________________________________________________________\n"
          ]
        }
      ]
    },
    {
      "cell_type": "code",
      "source": [
        "for epoch in range(epochs):\n",
        "  print(f\"Currently on Epoch {epoch+1}\")\n",
        "  i=0\n",
        "  for x_batch in dataset:\n",
        "    i=i+1\n",
        "    if i%100==0:\n",
        "      print(f\"\\t Currently on batch number {i} of (len(my_data)//batch_size)\")\n",
        "    \n",
        "    #Discrimnator training phase\n",
        "    noise=tf.random.normal(shape=[batch_size,codings_size])\n",
        "    gen_images=generator(noise)\n",
        "    x_fake_vs_real=tf.concat([gen_images,tf.dtypes.cast(x_batch,tf.float32)],axis=0)\n",
        "    y1=tf.constant([[0.0]]*batch_size+[[1.0]]*batch_size)\n",
        "    discriminator.trainable=True\n",
        "    discriminator.train_on_batch(x_fake_vs_real,y1)\n",
        "\n",
        "    #Train Generator\n",
        "\n",
        "    noise=tf.random.normal(shape=[batch_size,codings_size])\n",
        "    y2=tf.constant([[1.0]]*batch_size)\n",
        "    discriminator.trainable=False\n",
        "    GAN.train_on_batch(noise,y2)\n"
      ],
      "metadata": {
        "colab": {
          "base_uri": "https://localhost:8080/"
        },
        "id": "Gpsc1Gzi0nxz",
        "outputId": "e9370da1-fab3-4e36-d3f7-6c85d84ac5d3"
      },
      "execution_count": 30,
      "outputs": [
        {
          "output_type": "stream",
          "name": "stdout",
          "text": [
            "Currently on Epoch 1\n",
            "\t Currently on batch number 100 of (len(my_data)//batch_size)\n"
          ]
        }
      ]
    },
    {
      "cell_type": "code",
      "source": [
        "noise=tf.random.normal(shape=[10,codings_size])"
      ],
      "metadata": {
        "id": "QM5uPsQxLViv"
      },
      "execution_count": 31,
      "outputs": []
    },
    {
      "cell_type": "code",
      "source": [
        "noise.shape"
      ],
      "metadata": {
        "colab": {
          "base_uri": "https://localhost:8080/"
        },
        "id": "u64tLjxzPxDe",
        "outputId": "50eb4636-2517-427e-d902-49e722f2b00a"
      },
      "execution_count": 32,
      "outputs": [
        {
          "output_type": "execute_result",
          "data": {
            "text/plain": [
              "TensorShape([10, 100])"
            ]
          },
          "metadata": {},
          "execution_count": 32
        }
      ]
    },
    {
      "cell_type": "code",
      "source": [
        "plt.imshow(noise)"
      ],
      "metadata": {
        "colab": {
          "base_uri": "https://localhost:8080/",
          "height": 101
        },
        "id": "ReOhUeayP0jO",
        "outputId": "53cce3f0-49f5-4d1c-fba7-5e37ee2debe4"
      },
      "execution_count": 33,
      "outputs": [
        {
          "output_type": "execute_result",
          "data": {
            "text/plain": [
              "<matplotlib.image.AxesImage at 0x7f4986a56310>"
            ]
          },
          "metadata": {},
          "execution_count": 33
        },
        {
          "output_type": "display_data",
          "data": {
            "text/plain": [
              "<Figure size 432x288 with 1 Axes>"
            ],
            "image/png": "[encoded data removed]"
          },
          "metadata": {
            "needs_background": "light"
          }
        }
      ]
    },
    {
      "cell_type": "code",
      "source": [
        "images=generator(noise)"
      ],
      "metadata": {
        "id": "VyMq4YLtP9v9"
      },
      "execution_count": 34,
      "outputs": []
    },
    {
      "cell_type": "code",
      "source": [
        "images.shape"
      ],
      "metadata": {
        "colab": {
          "base_uri": "https://localhost:8080/"
        },
        "id": "DRqXRoMUQSJ-",
        "outputId": "f2c0c6a1-8774-44cb-9c73-e3ac715a74a0"
      },
      "execution_count": 35,
      "outputs": [
        {
          "output_type": "execute_result",
          "data": {
            "text/plain": [
              "TensorShape([10, 28, 28])"
            ]
          },
          "metadata": {},
          "execution_count": 35
        }
      ]
    },
    {
      "cell_type": "code",
      "source": [
        "images[0]"
      ],
      "metadata": {
        "colab": {
          "base_uri": "https://localhost:8080/"
        },
        "id": "t27DgacEQsPA",
        "outputId": "96e7974b-7d55-472b-fd97-a65ad682a17d"
      },
      "execution_count": 37,
      "outputs": [
        {
          "output_type": "execute_result",
          "data": {
            "text/plain": [
              "<tf.Tensor: shape=(28, 28), dtype=float32, numpy=\n",
              "array([[0.        , 0.        , 0.        , 0.        , 0.        ,\n",
              "        0.        , 0.        , 0.        , 0.        , 0.        ,\n",
              "        0.        , 0.        , 0.        , 0.        , 0.        ,\n",
              "        0.        , 0.        , 0.        , 0.        , 0.        ,\n",
              "        0.        , 0.        , 0.        , 0.        , 0.        ,\n",
              "        0.        , 0.        , 0.        ],\n",
              "       [0.        , 0.        , 0.        , 0.        , 0.        ,\n",
              "        0.        , 0.        , 0.        , 0.        , 0.        ,\n",
              "        0.        , 0.        , 0.        , 0.        , 0.        ,\n",
              "        0.        , 0.        , 0.        , 0.        , 0.        ,\n",
              "        0.        , 0.        , 0.        , 0.        , 0.        ,\n",
              "        0.        , 0.        , 0.        ],\n",
              "       [0.        , 0.        , 0.        , 0.        , 0.        ,\n",
              "        0.        , 0.        , 0.        , 0.        , 0.        ,\n",
              "        0.        , 0.        , 0.        , 0.        , 0.        ,\n",
              "        0.        , 0.        , 0.        , 0.        , 0.        ,\n",
              "        0.        , 0.        , 0.        , 0.        , 0.        ,\n",
              "        0.        , 0.        , 0.        ],\n",
              "       [0.        , 0.        , 0.        , 0.        , 0.        ,\n",
              "        0.        , 0.        , 0.        , 0.        , 0.        ,\n",
              "        0.        , 0.        , 0.        , 0.        , 0.        ,\n",
              "        0.38288665, 0.        , 0.        , 0.        , 0.        ,\n",
              "        0.        , 0.        , 0.        , 0.        , 0.        ,\n",
              "        0.        , 0.        , 0.        ],\n",
              "       [0.        , 0.        , 0.        , 0.        , 0.        ,\n",
              "        0.        , 0.        , 0.        , 0.        , 0.        ,\n",
              "        0.        , 0.        , 0.        , 0.84997445, 0.3005957 ,\n",
              "        0.        , 0.        , 0.03754755, 0.        , 0.        ,\n",
              "        1.1216798 , 0.6289882 , 0.        , 0.09854566, 0.        ,\n",
              "        0.        , 0.        , 0.        ],\n",
              "       [0.        , 0.        , 0.        , 0.        , 0.        ,\n",
              "        0.        , 0.        , 0.        , 0.        , 0.        ,\n",
              "        0.        , 0.        , 0.        , 0.        , 0.        ,\n",
              "        0.        , 0.        , 0.        , 0.92685485, 0.        ,\n",
              "        0.        , 0.1943802 , 0.6041494 , 0.        , 0.        ,\n",
              "        0.        , 0.        , 0.        ],\n",
              "       [0.        , 0.        , 0.        , 0.        , 0.        ,\n",
              "        0.        , 0.        , 0.        , 0.        , 0.        ,\n",
              "        0.4646881 , 1.3263407 , 0.10134341, 0.        , 0.        ,\n",
              "        0.        , 0.        , 0.55059826, 0.        , 0.7594828 ,\n",
              "        0.        , 0.        , 0.        , 0.        , 0.        ,\n",
              "        0.        , 0.        , 0.        ],\n",
              "       [0.        , 0.        , 0.        , 0.        , 0.        ,\n",
              "        0.        , 0.        , 0.        , 0.        , 0.04931109,\n",
              "        0.        , 0.        , 0.        , 0.        , 0.        ,\n",
              "        0.        , 0.        , 0.84606045, 0.        , 0.        ,\n",
              "        0.        , 0.        , 0.        , 0.        , 0.        ,\n",
              "        0.        , 0.        , 0.        ],\n",
              "       [0.        , 0.        , 0.        , 0.        , 0.        ,\n",
              "        0.        , 0.        , 0.        , 0.        , 0.        ,\n",
              "        0.97499937, 0.        , 0.        , 1.2580749 , 0.        ,\n",
              "        0.        , 0.572199  , 0.        , 1.0048178 , 1.2419137 ,\n",
              "        0.        , 1.3092608 , 1.3604064 , 0.        , 0.        ,\n",
              "        0.        , 0.        , 0.        ],\n",
              "       [0.        , 0.        , 0.        , 0.        , 0.        ,\n",
              "        0.5245866 , 0.        , 0.        , 0.        , 0.        ,\n",
              "        1.146264  , 0.18033007, 0.        , 0.28590357, 0.        ,\n",
              "        1.200947  , 0.5239639 , 0.        , 0.        , 0.        ,\n",
              "        0.        , 0.        , 0.        , 0.        , 0.        ,\n",
              "        0.        , 0.        , 0.        ],\n",
              "       [0.        , 0.        , 0.        , 0.        , 0.        ,\n",
              "        0.        , 0.        , 0.        , 0.        , 0.        ,\n",
              "        0.        , 0.        , 0.7004916 , 0.        , 1.2548959 ,\n",
              "        0.5157581 , 1.4748694 , 0.        , 0.        , 0.        ,\n",
              "        0.        , 1.8146819 , 0.        , 0.86422986, 0.        ,\n",
              "        0.        , 0.        , 0.        ],\n",
              "       [0.        , 0.        , 0.        , 0.        , 0.        ,\n",
              "        0.        , 0.        , 0.        , 0.        , 0.        ,\n",
              "        0.        , 0.        , 0.        , 0.        , 0.        ,\n",
              "        0.        , 0.        , 0.        , 0.        , 0.        ,\n",
              "        0.        , 1.0543976 , 0.09275746, 1.2402889 , 0.10125372,\n",
              "        0.        , 0.        , 0.        ],\n",
              "       [0.        , 0.        , 0.        , 0.        , 0.        ,\n",
              "        0.24680108, 1.2832748 , 0.        , 0.        , 1.398199  ,\n",
              "        0.        , 0.        , 0.        , 1.3941046 , 0.        ,\n",
              "        0.        , 0.        , 0.        , 0.        , 0.        ,\n",
              "        0.        , 0.        , 0.        , 1.2935162 , 0.        ,\n",
              "        0.        , 0.        , 0.        ],\n",
              "       [0.        , 0.        , 0.        , 0.        , 0.        ,\n",
              "        0.        , 0.54352164, 0.05366648, 1.3790133 , 0.55440986,\n",
              "        0.        , 0.        , 0.        , 0.        , 0.6713897 ,\n",
              "        0.34100395, 0.        , 0.        , 0.        , 0.        ,\n",
              "        1.5965755 , 0.        , 1.0188267 , 0.60316455, 0.        ,\n",
              "        0.        , 0.        , 0.        ],\n",
              "       [0.        , 0.        , 0.        , 0.        , 0.        ,\n",
              "        0.        , 0.        , 0.        , 0.        , 1.033625  ,\n",
              "        0.        , 0.        , 0.        , 0.        , 0.00351548,\n",
              "        0.        , 0.        , 0.        , 0.        , 0.6728982 ,\n",
              "        0.        , 0.23030479, 1.2375654 , 0.        , 0.24035816,\n",
              "        0.        , 0.        , 0.        ],\n",
              "       [0.        , 0.        , 0.        , 0.        , 0.        ,\n",
              "        0.        , 1.5359782 , 0.        , 0.        , 0.        ,\n",
              "        1.0351864 , 0.63829136, 0.        , 0.        , 0.        ,\n",
              "        0.        , 0.        , 0.53509253, 0.        , 0.22440895,\n",
              "        0.        , 0.        , 0.        , 0.9594059 , 0.        ,\n",
              "        0.        , 0.00429508, 0.        ],\n",
              "       [0.        , 0.        , 0.        , 0.        , 1.0647607 ,\n",
              "        0.        , 0.        , 0.08686373, 0.80341476, 0.66427577,\n",
              "        0.5980772 , 0.        , 0.        , 0.        , 0.        ,\n",
              "        0.        , 0.        , 0.        , 0.        , 0.        ,\n",
              "        0.        , 1.6892916 , 1.4058527 , 0.        , 0.        ,\n",
              "        0.        , 0.        , 0.        ],\n",
              "       [0.        , 0.        , 0.        , 0.        , 0.        ,\n",
              "        1.7004029 , 0.08901294, 0.94760674, 0.        , 0.        ,\n",
              "        0.        , 0.        , 0.        , 0.        , 0.35174713,\n",
              "        0.        , 0.        , 0.        , 0.        , 0.21601807,\n",
              "        0.        , 0.        , 0.        , 0.06699604, 0.        ,\n",
              "        0.        , 0.        , 0.        ],\n",
              "       [0.        , 0.        , 0.        , 0.        , 0.        ,\n",
              "        0.        , 0.        , 0.        , 0.        , 0.        ,\n",
              "        1.2167236 , 0.        , 0.        , 0.        , 0.        ,\n",
              "        0.43180296, 0.        , 0.        , 0.        , 0.        ,\n",
              "        0.        , 0.        , 0.        , 0.        , 0.00452725,\n",
              "        0.        , 0.        , 0.        ],\n",
              "       [0.        , 0.        , 0.        , 0.        , 0.        ,\n",
              "        0.        , 0.        , 1.8264377 , 1.1077496 , 1.3742836 ,\n",
              "        0.00746206, 0.04827731, 0.64814967, 0.        , 0.        ,\n",
              "        0.7711156 , 0.        , 0.        , 0.        , 0.        ,\n",
              "        0.        , 0.        , 1.1472852 , 0.        , 0.        ,\n",
              "        0.        , 0.        , 0.        ],\n",
              "       [0.        , 0.        , 0.        , 0.        , 0.        ,\n",
              "        0.42984107, 0.        , 0.        , 0.        , 0.        ,\n",
              "        0.2073205 , 0.73164994, 0.        , 0.        , 0.        ,\n",
              "        0.60404783, 0.        , 0.        , 0.        , 1.1970507 ,\n",
              "        0.        , 0.05680621, 0.32352945, 0.        , 0.        ,\n",
              "        0.        , 0.        , 0.        ],\n",
              "       [0.        , 0.        , 0.        , 0.        , 0.5389839 ,\n",
              "        0.        , 0.        , 0.45604196, 0.9515734 , 1.7003647 ,\n",
              "        0.        , 0.        , 0.        , 0.        , 1.1877486 ,\n",
              "        0.        , 0.8399676 , 0.        , 0.        , 0.        ,\n",
              "        0.        , 0.        , 0.        , 0.        , 0.        ,\n",
              "        0.        , 0.        , 0.        ],\n",
              "       [0.        , 0.        , 0.        , 0.        , 0.        ,\n",
              "        0.        , 0.9010354 , 0.        , 0.26502785, 0.        ,\n",
              "        0.30887398, 0.        , 0.        , 0.87213343, 0.        ,\n",
              "        0.        , 1.044554  , 0.04114922, 0.        , 0.        ,\n",
              "        0.        , 0.        , 0.        , 0.        , 0.        ,\n",
              "        0.        , 0.        , 0.        ],\n",
              "       [0.        , 0.        , 0.        , 0.        , 0.        ,\n",
              "        0.        , 0.        , 0.        , 0.        , 0.        ,\n",
              "        1.4977164 , 1.1402738 , 1.504428  , 0.0743754 , 0.        ,\n",
              "        2.1732523 , 0.        , 0.3296896 , 0.        , 0.6633725 ,\n",
              "        0.        , 0.        , 0.        , 0.        , 0.        ,\n",
              "        0.        , 0.        , 0.        ],\n",
              "       [0.        , 0.        , 0.        , 0.        , 0.        ,\n",
              "        0.        , 0.        , 0.07347167, 0.        , 0.        ,\n",
              "        0.        , 0.        , 0.        , 0.        , 0.5382499 ,\n",
              "        0.        , 0.38129058, 0.        , 0.        , 0.        ,\n",
              "        0.        , 0.        , 0.        , 0.        , 0.        ,\n",
              "        0.        , 0.        , 0.        ],\n",
              "       [0.        , 0.        , 0.        , 0.        , 0.        ,\n",
              "        0.        , 0.        , 0.        , 0.3297462 , 0.        ,\n",
              "        0.        , 0.        , 0.        , 0.        , 0.        ,\n",
              "        0.        , 0.        , 0.        , 0.        , 0.        ,\n",
              "        0.        , 0.        , 0.        , 0.        , 0.        ,\n",
              "        0.        , 0.        , 0.        ],\n",
              "       [0.        , 0.        , 0.        , 0.        , 0.        ,\n",
              "        0.        , 0.        , 0.        , 0.        , 0.        ,\n",
              "        0.        , 0.        , 0.        , 0.        , 0.        ,\n",
              "        0.        , 0.        , 0.        , 0.        , 0.        ,\n",
              "        0.        , 0.        , 0.        , 0.        , 0.        ,\n",
              "        0.        , 0.        , 0.        ],\n",
              "       [0.        , 0.        , 0.        , 0.        , 0.        ,\n",
              "        0.        , 0.        , 0.        , 0.        , 0.        ,\n",
              "        0.        , 0.        , 0.        , 0.        , 0.        ,\n",
              "        0.        , 0.        , 0.        , 0.        , 0.        ,\n",
              "        0.        , 0.        , 0.        , 0.        , 0.        ,\n",
              "        0.        , 0.        , 0.        ]], dtype=float32)>"
            ]
          },
          "metadata": {},
          "execution_count": 37
        }
      ]
    },
    {
      "cell_type": "code",
      "source": [
        "plt.imshow(images[0])"
      ],
      "metadata": {
        "colab": {
          "base_uri": "https://localhost:8080/",
          "height": 282
        },
        "id": "DgzxiGBtQczV",
        "outputId": "9f1b5b51-e16d-4682-fa85-c72e720a3a46"
      },
      "execution_count": 38,
      "outputs": [
        {
          "output_type": "execute_result",
          "data": {
            "text/plain": [
              "<matplotlib.image.AxesImage at 0x7f49865dc9d0>"
            ]
          },
          "metadata": {},
          "execution_count": 38
        },
        {
          "output_type": "display_data",
          "data": {
            "text/plain": [
              "<Figure size 432x288 with 1 Axes>"
            ],
            "image/png": "[encoded data removed]"
          },
          "metadata": {
            "needs_background": "light"
          }
        }
      ]
    },
    {
      "cell_type": "code",
      "source": [
        "plt.imshow(images[1])"
      ],
      "metadata": {
        "colab": {
          "base_uri": "https://localhost:8080/",
          "height": 282
        },
        "id": "XEww8zJ6Qkt9",
        "outputId": "0703a7ef-ff4a-45c9-8809-68ac421c22f3"
      },
      "execution_count": 39,
      "outputs": [
        {
          "output_type": "execute_result",
          "data": {
            "text/plain": [
              "<matplotlib.image.AxesImage at 0x7f49865b28d0>"
            ]
          },
          "metadata": {},
          "execution_count": 39
        },
        {
          "output_type": "display_data",
          "data": {
            "text/plain": [
              "<Figure size 432x288 with 1 Axes>"
            ],
            "image/png": "[encoded data removed]"
          },
          "metadata": {
            "needs_background": "light"
          }
        }
      ]
    },
    {
      "cell_type": "code",
      "source": [
        "plt.imshow(images[4])"
      ],
      "metadata": {
        "colab": {
          "base_uri": "https://localhost:8080/",
          "height": 282
        },
        "id": "qg7CzXe5RG8d",
        "outputId": "a5395214-1a27-42cd-a468-72a448b4173d"
      },
      "execution_count": 40,
      "outputs": [
        {
          "output_type": "execute_result",
          "data": {
            "text/plain": [
              "<matplotlib.image.AxesImage at 0x7f498651a3d0>"
            ]
          },
          "metadata": {},
          "execution_count": 40
        },
        {
          "output_type": "display_data",
          "data": {
            "text/plain": [
              "<Figure size 432x288 with 1 Axes>"
            ],
            "image/png": "[encoded data removed]"
          },
          "metadata": {
            "needs_background": "light"
          }
        }
      ]
    },
    {
      "cell_type": "code",
      "source": [
        ""
      ],
      "metadata": {
        "id": "_Y2ONKlERKc9"
      },
      "execution_count": null,
      "outputs": []
    }
  ]
}